{
 "cells": [
  {
   "attachments": {},
   "cell_type": "markdown",
   "metadata": {},
   "source": [
    "#### Inverse Image Lecture coding Notes"
   ]
  },
  {
   "cell_type": "code",
   "execution_count": 1,
   "metadata": {},
   "outputs": [],
   "source": [
    "# Moore-Penrose Inverse (MPI) of the matrix A\n",
    "import numpy as np\n",
    "import matplotlib.pyplot as plt\n",
    "\n",
    "A = np.array([[1,2,],[3,4]], dtype=np.float32)\n",
    "A_t = A.transpose()\n",
    "\n",
    "A_cross = np.dot(A_t, np.linalg.inv(np.dot(A,A_t)))"
   ]
  },
  {
   "cell_type": "code",
   "execution_count": 2,
   "metadata": {},
   "outputs": [
    {
     "data": {
      "text/plain": [
       "array([[-0.15625  , -0.3125   ],\n",
       "       [-0.3671875,  0.203125 ],\n",
       "       [ 0.359375 ,  0.       ]])"
      ]
     },
     "execution_count": 2,
     "metadata": {},
     "output_type": "execute_result"
    }
   ],
   "source": [
    "def get_crossMatrix(A):\n",
    "    A_t = A.transpose()\n",
    "    if A.shape[0] > A.shape[1]:\n",
    "        return np.dot(A_t, np.linalg.inv(np.dot(A,A_t)))\n",
    "    else:\n",
    "        return np.dot(np.linalg.inv(np.dot(A_t, A)), A_t)\n",
    "\n",
    "get_crossMatrix(np.array([[1,0,3],[4,5,6]]))"
   ]
  },
  {
   "cell_type": "code",
   "execution_count": 11,
   "metadata": {},
   "outputs": [
    {
     "data": {
      "image/png": "[encoded data removed]",
      "text/plain": [
       "<Figure size 432x288 with 1 Axes>"
      ]
     },
     "metadata": {
      "needs_background": "light"
     },
     "output_type": "display_data"
    }
   ],
   "source": [
    "# Draw linear equation and boundary lines\n",
    "\n",
    "fig, ax = plt.subplots()\n",
    "ax.axhline(y=0, color='k', linewidth=0.5)\n",
    "ax.axvline(x=0, color='k', linewidth=0.5)\n",
    "ax.grid(True, which='both')\n",
    "ax.set_xlim([-6, 6])\n",
    "ax.set_ylim([-6, 6])\n",
    "ax.set_xlabel('x-axis')\n",
    "ax.set_ylabel('y-axis')\n",
    "\n",
    "x = np.arange(-5, 5, 0.1)\n",
    "y = (5-x)/2\n",
    "ax.plot(x, y)\n",
    "ax.set_title('Linear Equation')\n",
    "\n",
    "import matplotlib.patches as patches\n",
    "circle = patches.Circle((0, 0), 2, fill=False)\n",
    "square = patches.Rectangle((-2, -2), 4, 6, linewidth=2, edgecolor='r', facecolor='none')\n",
    "ax.add_patch(circle)\n",
    "ax.add_patch(square)\n",
    "\n",
    "# Display the plot\n",
    "plt.show()"
   ]
  },
  {
   "cell_type": "code",
   "execution_count": null,
   "metadata": {},
   "outputs": [],
   "source": []
  }
 ],
 "metadata": {
  "kernelspec": {
   "display_name": "base",
   "language": "python",
   "name": "python3"
  },
  "language_info": {
   "codemirror_mode": {
    "name": "ipython",
    "version": 3
   },
   "file_extension": ".py",
   "mimetype": "text/x-python",
   "name": "python",
   "nbconvert_exporter": "python",
   "pygments_lexer": "ipython3",
   "version": "3.8.8"
  },
  "orig_nbformat": 4
 },
 "nbformat": 4,
 "nbformat_minor": 2
}
